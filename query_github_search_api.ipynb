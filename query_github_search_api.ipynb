{
 "cells": [
  {
   "cell_type": "code",
   "execution_count": 1,
   "id": "bc90bee9-bd15-4348-b4da-070b1f1beba3",
   "metadata": {},
   "outputs": [],
   "source": [
    "import requests\n",
    "import json"
   ]
  },
  {
   "cell_type": "code",
   "execution_count": 2,
   "id": "8cefabc4-1e22-46ab-a608-749df5f3ac3a",
   "metadata": {},
   "outputs": [],
   "source": [
    "with open(\"github_oauth_personal_access_token\",\"r\") as file_handle:\n",
    "    my_key = file_handle.read().strip()"
   ]
  },
  {
   "cell_type": "code",
   "execution_count": 10,
   "id": "94ab37d2-465c-4493-a732-228739c582d4",
   "metadata": {},
   "outputs": [],
   "source": [
    "base_url=\"https://api.github.com/search/\"\n",
    "headers = {'Authorization': 'Token '+my_key,\n",
    "           'User-Agent': 'bhpayne experimenting with queries'}"
   ]
  },
  {
   "cell_type": "code",
   "execution_count": 11,
   "id": "c75faa4f-fba1-4e99-8ecd-038e90d53bb6",
   "metadata": {
    "tags": []
   },
   "outputs": [],
   "source": [
    "# https://docs.github.com/en/rest/search#search-code\n",
    "# When searching for code, you can get text match metadata for \n",
    "# the file content and file path fields\n",
    "query = base_url+\"code?q=addClass +in:file +language:csharp\""
   ]
  },
  {
   "cell_type": "code",
   "execution_count": null,
   "id": "f885c06d-251b-4938-b9a5-b00e9442f9e1",
   "metadata": {},
   "outputs": [],
   "source": [
    "# https://docs.github.com/en/rest/search#search-topics\n",
    "# see also https://github.com/topics\n",
    "# When searching for topics, you can get text match metadata for \n",
    "# the topic's short_description, description, name, or display_name"
   ]
  },
  {
   "cell_type": "code",
   "execution_count": 12,
   "id": "45d93990-66b2-45e9-9366-955e1914a4bf",
   "metadata": {},
   "outputs": [],
   "source": [
    "# https://docs.github.com/en/rest/search#search-repositories\n",
    "# When searching for repositories, you can get text match metadata for \n",
    "# the name and description fields\n",
    "query = base_url+\"repositories?q=tetris+language:assembly&sort=stars&order=desc\""
   ]
  },
  {
   "cell_type": "code",
   "execution_count": 13,
   "id": "fe92ca96-8d59-4117-be3a-dd1532f754ce",
   "metadata": {},
   "outputs": [
    {
     "name": "stdout",
     "output_type": "stream",
     "text": [
      "https://api.github.com/search/repositories?q=tetris+language:assembly&sort=stars&order=desc\n"
     ]
    }
   ],
   "source": [
    "print(query)"
   ]
  },
  {
   "cell_type": "code",
   "execution_count": 14,
   "id": "11903802-ccfb-4bf7-9bc9-1dc9d47931e0",
   "metadata": {},
   "outputs": [],
   "source": [
    "response = requests.request(\"GET\", query, headers=headers)"
   ]
  },
  {
   "cell_type": "raw",
   "id": "b87c8507-3de1-48f6-ae72-2f9936052dc1",
   "metadata": {
    "tags": []
   },
   "source": [
    "print(response.text)"
   ]
  },
  {
   "cell_type": "code",
   "execution_count": null,
   "id": "70cef2c5-a7c5-4e47-abd4-a904360e03bb",
   "metadata": {},
   "outputs": [],
   "source": [
    "print(json.dumps(response.json(), indent=2))#, sort_keys=True))"
   ]
  },
  {
   "cell_type": "code",
   "execution_count": null,
   "id": "c48c060b-d4fe-41da-ac6d-6a48467f11ea",
   "metadata": {},
   "outputs": [],
   "source": []
  }
 ],
 "metadata": {
  "kernelspec": {
   "display_name": "Python 3 (ipykernel)",
   "language": "python",
   "name": "python3"
  },
  "language_info": {
   "codemirror_mode": {
    "name": "ipython",
    "version": 3
   },
   "file_extension": ".py",
   "mimetype": "text/x-python",
   "name": "python",
   "nbconvert_exporter": "python",
   "pygments_lexer": "ipython3",
   "version": "3.9.6"
  }
 },
 "nbformat": 4,
 "nbformat_minor": 5
}
